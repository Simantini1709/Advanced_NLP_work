{
 "cells": [
  {
   "cell_type": "code",
   "execution_count": 1,
   "id": "00c0f6e6-dc38-4532-ac49-57b91cd339b3",
   "metadata": {},
   "outputs": [],
   "source": [
    "# import the essential libaries\n",
    "import pandas as pd\n",
    "import numpy as np\n",
    "import matplotlib.pyplot as plt\n",
    "import seaborn as sns\n",
    "\n",
    "from sklearn.metrics import confusion_matrix, classification_report\n",
    "import seaborn as sns\n",
    "import matplotlib.pyplot as plt\n",
    "\n",
    "import nltk\n",
    "from nltk.stem import PorterStemmer\n",
    "from nltk.corpus import stopwords\n",
    "from sklearn.feature_extraction.text import TfidfVectorizer\n",
    "from nltk.stem import WordNetLemmatizer\n",
    "import re\n",
    "import nltk\n",
    "\n",
    "from sklearn.feature_extraction.text import CountVectorizer\n"
   ]
  },
  {
   "cell_type": "code",
   "execution_count": 2,
   "id": "ce44cabf-c291-4a5c-b297-2a6fa64adc61",
   "metadata": {},
   "outputs": [],
   "source": [
    "import pandas as pd\n",
    "import random\n",
    "\n",
    "# Base data for HIPAA violations (1s) and non-violations (0s)\n",
    "base_data_hipaa = [\n",
    "    # HIPAA Violation (1) - Focus on Patient History\n",
    "    (\"The patient's previous surgeries are important for this treatment.\", 1),\n",
    "    (\"We should review the patient's allergy history before prescribing.\", 1),\n",
    "    (\"The patient's past diagnoses need to be considered.\", 1),\n",
    "    (\"Please update the patient's history of chronic illnesses.\", 1),\n",
    "    (\"We need to include the patient's genetic history in the report.\", 1),\n",
    "    (\"The patient has a family history of heart disease.\", 1),\n",
    "    (\"Let's go over the patient's history of mental health issues.\", 1),\n",
    "    (\"The patient's previous hospitalizations should be documented.\", 1),\n",
    "    (\"We need to consider the patient's history of medication reactions.\", 1),\n",
    "    (\"The patient has a history of diabetes that needs to be monitored.\", 1),\n",
    "    (\"Let's update the patient's record with their recent health checkup results.\", 1),\n",
    "    (\"We need to verify the patient's history of immunizations.\", 1),\n",
    "    (\"The patient's family history of cancer needs to be evaluated.\", 1),\n",
    "    (\"We should document the patient's history of tobacco use.\", 1),\n",
    "    (\"The patient's history of surgeries needs to be included in the treatment plan.\", 1),\n",
    "    (\"Please add the patient's history of respiratory issues to their file.\", 1),\n",
    "    (\"The patient's history of alcohol use should be considered.\", 1),\n",
    "    (\"Let's review the patient's history of blood transfusions.\", 1),\n",
    "    (\"The patient has a history of hypertension; we need to monitor that.\", 1),\n",
    "    (\"We need to check the patient's history of heart disease.\", 1),\n",
    "    (\"We need to check the patient's history of lungs disease.\", 1),\n",
    "    (\"We need to check the patient's history of teeth disease.\", 1),\n",
    "    (\"We need to check the patient's history of nose disease.\", 1),\n",
    "    (\"We need to check the patient's history of hair disease.\", 1),\n",
    "    (\"We need to check the patient's history of tongue disease.\", 1),\n",
    "    (\"We need to check the patient's history of hands disease.\", 1),\n",
    "    (\"We need to check the patient's history of legs disease.\", 1),\n",
    "    (\"We need to check the patient's history of knee disease.\", 1),\n",
    "    (\"We need to check the patient's history of neck disease.\", 1),\n",
    "    (\"We need to check the patient's history of fingers disease.\", 1),\n",
    "    (\"We need to check the patient's history of nail disease.\", 1),\n",
    "    (\"We need to check the patient's history of lips disease.\", 1),\n",
    "    (\"We need to check the patient's history of eyes disease.\", 1),\n",
    "    (\"We need to check the patient's history of head disease.\", 1),\n",
    "    (\"We need to check the patient's history of toe disease.\", 1),\n",
    "    (\"We need to check the patient's history of backbone disease.\", 1),\n",
    "    (\"We need to check the patient's history of stomach disease.\", 1),\n",
    "    (\"We need to check the patient's history of pancrease disease.\", 1),\n",
    "    \n",
    "    (\"Let's discuss the logistics for the upcoming festival.\", 0),\n",
    "    (\"Let's discuss the logistics for the upcoming conference.\", 0),\n",
    "    (\"Let's discuss the logistics for the upcoming seminar.\", 0),\n",
    "    (\"Let's discuss the logistics for the upcoming project.\", 0),\n",
    "    (\"Let's discuss the logistics for the upcoming campaign.\", 0),\n",
    "    (\"Let's discuss the logistics for the upcoming launch.\", 0),\n",
    "    (\"We should plan the marketing strategy for the next quarter.\", 0),\n",
    "    (\"Let's discuss the budget allocation for the new project.\", 0),\n",
    "    (\"The client's feedback on the recent campaign was positive.\", 0),\n",
    "    (\"We need to finalize the details for the upcoming conference.\", 0),\n",
    "    (\"Let's review the quarterly sales figures.\", 0),\n",
    "    (\"We should update the team on the new software implementation.\", 0),\n",
    "    (\"Let's schedule a meeting to discuss the new product launch.\", 0),\n",
    "    (\"We need to prepare the presentation for the board meeting.\", 0),\n",
    "    (\"The project deadline needs to be extended.\", 0),\n",
    "    (\"Let's discuss the recruitment plan for the next quarter.\", 0),\n",
    "    (\"We should analyze the recent customer survey results.\", 0),\n",
    "    (\"The marketing team needs to revise the campaign strategy.\", 0),\n",
    "    (\"We need to prepare for the upcoming audit.\", 0),\n",
    "    (\"Let's update the website with the latest product information.\", 0),\n",
    "    (\"We should plan the team-building activities for next month.\", 0),\n",
    "    (\"The financial report needs to be submitted by Friday.\", 0),\n",
    "    (\"We should discuss the new partnership opportunities.\", 0),\n",
    "    (\"Let's review the latest industry trends.\", 0),\n",
    "    (\"We need to improve the customer support process.\", 0),\n",
    "    (\"Let's discuss the logistics for the upcoming event.\", 0)\n",
    "]\n",
    "# Generate 1000 more rows\n",
    "generated_data = [random.choice(base_data_hipaa) for _ in range(2000)]\n",
    "\n",
    "# Convert to DataFrame\n",
    "data= pd.DataFrame(generated_data, columns=[\"text\", \"label\"])\n",
    "\n",
    "# Save to CSV\n",
    "data.to_csv(\"HIPPA_dataset.csv\", index=False)"
   ]
  },
  {
   "cell_type": "code",
   "execution_count": 3,
   "id": "9b7c6443-a2cc-4071-b2a1-ec4fa7306643",
   "metadata": {},
   "outputs": [
    {
     "data": {
      "text/html": [
       "<div>\n",
       "<style scoped>\n",
       "    .dataframe tbody tr th:only-of-type {\n",
       "        vertical-align: middle;\n",
       "    }\n",
       "\n",
       "    .dataframe tbody tr th {\n",
       "        vertical-align: top;\n",
       "    }\n",
       "\n",
       "    .dataframe thead th {\n",
       "        text-align: right;\n",
       "    }\n",
       "</style>\n",
       "<table border=\"1\" class=\"dataframe\">\n",
       "  <thead>\n",
       "    <tr style=\"text-align: right;\">\n",
       "      <th></th>\n",
       "      <th>text</th>\n",
       "      <th>label</th>\n",
       "    </tr>\n",
       "  </thead>\n",
       "  <tbody>\n",
       "    <tr>\n",
       "      <th>0</th>\n",
       "      <td>Please add the patient's history of respirator...</td>\n",
       "      <td>1</td>\n",
       "    </tr>\n",
       "    <tr>\n",
       "      <th>1</th>\n",
       "      <td>We need to include the patient's genetic histo...</td>\n",
       "      <td>1</td>\n",
       "    </tr>\n",
       "    <tr>\n",
       "      <th>2</th>\n",
       "      <td>Let's update the website with the latest produ...</td>\n",
       "      <td>0</td>\n",
       "    </tr>\n",
       "    <tr>\n",
       "      <th>3</th>\n",
       "      <td>The patient's previous surgeries are important...</td>\n",
       "      <td>1</td>\n",
       "    </tr>\n",
       "    <tr>\n",
       "      <th>4</th>\n",
       "      <td>We need to check the patient's history of tong...</td>\n",
       "      <td>1</td>\n",
       "    </tr>\n",
       "    <tr>\n",
       "      <th>...</th>\n",
       "      <td>...</td>\n",
       "      <td>...</td>\n",
       "    </tr>\n",
       "    <tr>\n",
       "      <th>1995</th>\n",
       "      <td>Let's discuss the logistics for the upcoming e...</td>\n",
       "      <td>0</td>\n",
       "    </tr>\n",
       "    <tr>\n",
       "      <th>1996</th>\n",
       "      <td>Let's update the website with the latest produ...</td>\n",
       "      <td>0</td>\n",
       "    </tr>\n",
       "    <tr>\n",
       "      <th>1997</th>\n",
       "      <td>We need to check the patient's history of knee...</td>\n",
       "      <td>1</td>\n",
       "    </tr>\n",
       "    <tr>\n",
       "      <th>1998</th>\n",
       "      <td>We need to include the patient's genetic histo...</td>\n",
       "      <td>1</td>\n",
       "    </tr>\n",
       "    <tr>\n",
       "      <th>1999</th>\n",
       "      <td>We should document the patient's history of to...</td>\n",
       "      <td>1</td>\n",
       "    </tr>\n",
       "  </tbody>\n",
       "</table>\n",
       "<p>2000 rows × 2 columns</p>\n",
       "</div>"
      ],
      "text/plain": [
       "                                                   text  label\n",
       "0     Please add the patient's history of respirator...      1\n",
       "1     We need to include the patient's genetic histo...      1\n",
       "2     Let's update the website with the latest produ...      0\n",
       "3     The patient's previous surgeries are important...      1\n",
       "4     We need to check the patient's history of tong...      1\n",
       "...                                                 ...    ...\n",
       "1995  Let's discuss the logistics for the upcoming e...      0\n",
       "1996  Let's update the website with the latest produ...      0\n",
       "1997  We need to check the patient's history of knee...      1\n",
       "1998  We need to include the patient's genetic histo...      1\n",
       "1999  We should document the patient's history of to...      1\n",
       "\n",
       "[2000 rows x 2 columns]"
      ]
     },
     "execution_count": 3,
     "metadata": {},
     "output_type": "execute_result"
    }
   ],
   "source": [
    "data"
   ]
  },
  {
   "cell_type": "code",
   "execution_count": 4,
   "id": "0363baeb-0f2f-4bee-8caf-11343fafe3fc",
   "metadata": {},
   "outputs": [],
   "source": [
    "TFIDF_data=data.copy()"
   ]
  },
  {
   "cell_type": "code",
   "execution_count": 5,
   "id": "b29d98eb-3066-49e6-a0fa-05aaccf7e254",
   "metadata": {},
   "outputs": [],
   "source": [
    "import re\n",
    "import string\n",
    "stemmer=PorterStemmer()\n",
    "\n",
    "def textpreprocess(text):\n",
    "    review = re.sub('[^a-zA-Z]', ' ', text)  # Remove non-alphabet characters\n",
    "    review = review.lower()  # Convert to lowercase\n",
    "    review = review.split()  # Split into words\n",
    "    review = [stemmer.stem(word) for word in review if word not in set(stopwords.words('english'))]  # Stemming and removing stopwords\n",
    "    processed_text = ' '.join(review)  # Join back into a single string\n",
    "    return processed_text "
   ]
  },
  {
   "cell_type": "code",
   "execution_count": 6,
   "id": "06bcc79f-0dd7-4475-98ab-51740ec15c78",
   "metadata": {},
   "outputs": [],
   "source": [
    "TFIDF_data['preprocessed_data'] = TFIDF_data['text'].apply(textpreprocess)"
   ]
  },
  {
   "cell_type": "code",
   "execution_count": 7,
   "id": "75cb97e3-1a70-4159-8890-21e8758da539",
   "metadata": {},
   "outputs": [],
   "source": [
    "from sklearn.model_selection import train_test_split\n",
    "train,test=train_test_split(TFIDF_data,test_size=0.3,random_state=42)"
   ]
  },
  {
   "cell_type": "code",
   "execution_count": 8,
   "id": "454dac20-1eb4-46ac-8d6e-a124c63d46c3",
   "metadata": {},
   "outputs": [],
   "source": [
    "X_train=train['preprocessed_data']\n",
    "y_train=train['label']"
   ]
  },
  {
   "cell_type": "code",
   "execution_count": 9,
   "id": "83839ab5-5f03-4960-a57c-6c803d429b2d",
   "metadata": {},
   "outputs": [],
   "source": [
    "X_test=test['preprocessed_data']\n",
    "y_test=test['label']"
   ]
  },
  {
   "cell_type": "markdown",
   "id": "fab755f7-2b8f-4ad8-9900-43257e62f1c0",
   "metadata": {},
   "source": [
    "Applying TF-IDF vectorizer for converting word to vectors"
   ]
  },
  {
   "cell_type": "code",
   "execution_count": 10,
   "id": "6ad8b223-0e4d-4477-8beb-6ee5627cd8f5",
   "metadata": {},
   "outputs": [],
   "source": [
    "from sklearn.feature_extraction.text import TfidfVectorizer\n",
    "tf=TfidfVectorizer(ngram_range=(1,1),max_features=10)\n",
    "X_trainT=tf.fit_transform(X_train)\n",
    "X_testT=tf.transform(X_test)"
   ]
  },
  {
   "cell_type": "code",
   "execution_count": 11,
   "id": "edfa7960-4a05-4773-9eea-db25e00d1f8b",
   "metadata": {},
   "outputs": [],
   "source": [
    "from sklearn.naive_bayes import MultinomialNB\n",
    "model=MultinomialNB()"
   ]
  },
  {
   "cell_type": "code",
   "execution_count": 12,
   "id": "953b088c-7750-4bf0-ac25-82c1521cceb1",
   "metadata": {},
   "outputs": [],
   "source": [
    "model_train=model.fit(X_trainT,y_train)"
   ]
  },
  {
   "cell_type": "code",
   "execution_count": 13,
   "id": "8cb780d2-dd11-4604-9a6d-a0b9e12ca205",
   "metadata": {},
   "outputs": [
    {
     "data": {
      "image/png": "[encoded data removed]",
      "text/plain": [
       "<Figure size 640x480 with 2 Axes>"
      ]
     },
     "metadata": {},
     "output_type": "display_data"
    },
    {
     "name": "stdout",
     "output_type": "stream",
     "text": [
      "              precision    recall  f1-score   support\n",
      "\n",
      "           0       1.00      0.75      0.86       240\n",
      "           1       0.86      1.00      0.92       360\n",
      "\n",
      "    accuracy                           0.90       600\n",
      "   macro avg       0.93      0.88      0.89       600\n",
      "weighted avg       0.92      0.90      0.90       600\n",
      "\n"
     ]
    }
   ],
   "source": [
    "y_pred=model_train.predict(X_testT)\n",
    "\n",
    "# confusion matrix\n",
    "confusionmatrix=confusion_matrix(y_test,y_pred,normalize='true')\n",
    "\n",
    "\n",
    "# visualize the confusion matrix in heatmap\n",
    "plt.figure()\n",
    "sns.heatmap(confusionmatrix, annot=True, cmap='Blues', fmt='.2f')\n",
    "plt.title('Confusion Matrix')\n",
    "plt.xlabel('Predicted')\n",
    "plt.ylabel('Actual')\n",
    "plt.show()\n",
    "\n",
    "#classification report\n",
    "report=classification_report(y_test,y_pred)\n",
    "print(report)"
   ]
  },
  {
   "cell_type": "code",
   "execution_count": 14,
   "id": "9ee6bad8-bb4f-4d43-8e46-d5777d85609b",
   "metadata": {},
   "outputs": [
    {
     "name": "stdout",
     "output_type": "stream",
     "text": [
      "0.9016666666666666\n"
     ]
    }
   ],
   "source": [
    "from sklearn.metrics import confusion_matrix, classification_report,accuracy_score\n",
    "score=accuracy_score(y_test,y_pred)\n",
    "print(score)"
   ]
  },
  {
   "cell_type": "code",
   "execution_count": 24,
   "id": "aa25c4b2-dd4c-47e6-8899-d72ddf3be1db",
   "metadata": {},
   "outputs": [
    {
     "name": "stdout",
     "output_type": "stream",
     "text": [
      "Your message \"The patient's recent lab results need to be reviewed for any abnormalities.\" is classified as Hippa Detection.\n"
     ]
    }
   ],
   "source": [
    "Custom_input = input(\"Please enter a message to predict hippa discrimination: \")\n",
    "\n",
    "def predict_hippa_detect(input_text):\n",
    "    processed_text = textpreprocess(input_text)  # Process the text\n",
    "    tfidf_features = tf.transform([processed_text])  # Transform the processed text to TF-IDF features\n",
    "    prediction_gender = model_train.predict(tfidf_features)  # Make prediction\n",
    "    \n",
    "    if prediction_gender == 1:\n",
    "        prediction_msg = f'Your message \"{input_text}\" is classified as Hippa Detection.'\n",
    "    else:\n",
    "        prediction_msg = f'Your message \"{input_text}\" is not classified as Hippa Detection.'\n",
    "\n",
    "    result = {\n",
    "        \"Text\": input_text,\n",
    "        \"Prediction\": prediction_msg\n",
    "    }\n",
    "    print(prediction_msg)\n",
    "    return result\n",
    "\n",
    "rslt = predict_hippa_detect(Custom_input)\n"
   ]
  },
  {
   "cell_type": "code",
   "execution_count": 25,
   "id": "2e421c06-ca45-4d92-a375-0faf34e36d28",
   "metadata": {},
   "outputs": [
    {
     "name": "stdout",
     "output_type": "stream",
     "text": [
      "Data from /Users/simantinighosh/Desktop/Eitacies_Internship_work/HIPPA_DETECTION/test.json has been successfully imported into the Eitacies_HIPPA_detection.Eitacies_HIPPA_detect collection.\n"
     ]
    }
   ],
   "source": [
    "from pymongo import MongoClient\n",
    "import json\n",
    "\n",
    "def load_json_to_mongodb(json_file_path, db_name, collection_name, mongo_uri=\"mongodb://localhost:27017\"):\n",
    "    # Create a MongoDB client\n",
    "    client = MongoClient(mongo_uri)\n",
    "\n",
    "    # Access the database\n",
    "    db = client[db_name]\n",
    "\n",
    "    # Access the collection\n",
    "    collection = db[collection_name]\n",
    "\n",
    "    # Open the JSON file and load its contents\n",
    "    with open(json_file_path, 'r') as file:\n",
    "        data = json.load(file)\n",
    "\n",
    "        # If the JSON file contains an array of documents\n",
    "        if isinstance(data, list):\n",
    "            collection.insert_many(data)\n",
    "        else:\n",
    "            collection.insert_one(data)\n",
    "\n",
    "    print(f\"Data from {json_file_path} has been successfully imported into the {db_name}.{collection_name} collection.\")\n",
    "\n",
    "\n",
    "json_file_path = r'/Users/simantinighosh/Desktop/Eitacies_Internship_work/HIPPA_DETECTION/test.json'  \n",
    "db_name = 'Eitacies_HIPPA_detection'\n",
    "collection_name = 'Eitacies_HIPPA_detect'\n",
    "\n",
    "load_json_to_mongodb(json_file_path, db_name, collection_name)"
   ]
  }
 ],
 "metadata": {
  "kernelspec": {
   "display_name": "Python 3 (ipykernel)",
   "language": "python",
   "name": "python3"
  },
  "language_info": {
   "codemirror_mode": {
    "name": "ipython",
    "version": 3
   },
   "file_extension": ".py",
   "mimetype": "text/x-python",
   "name": "python",
   "nbconvert_exporter": "python",
   "pygments_lexer": "ipython3",
   "version": "3.11.4"
  }
 },
 "nbformat": 4,
 "nbformat_minor": 5
}
